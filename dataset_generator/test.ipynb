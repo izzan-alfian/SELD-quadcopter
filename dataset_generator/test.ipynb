{
 "cells": [
  {
   "cell_type": "code",
   "execution_count": 120,
   "id": "38ad2d18",
   "metadata": {},
   "outputs": [],
   "source": [
    "import os\n",
    "import librosa\n",
    "import pandas as pd\n",
    "import random\n",
    "import numpy as np"
   ]
  },
  {
   "cell_type": "code",
   "execution_count": null,
   "id": "da5330fd",
   "metadata": {},
   "outputs": [
    {
     "name": "stdout",
     "output_type": "stream",
     "text": [
      "['train_239_desc_30_100.csv', 'test_43_desc_30_100.csv', 'train_17_desc_30_100.csv']\n"
     ]
    }
   ],
   "source": [
    "source_path = \"/media/zanub/39768EEB549F8712/projects/seld-net/datasets/ANSIM/ov1_split1/desc_ov1_split1\"\n",
    "\n",
    "sum = 0\n",
    "lowest = 100000\n",
    "biggest = 0\n",
    "\n",
    "for i in os.listdir(source_path):\n",
    "    file_path = os.path.join(source_path, i)\n",
    "    df = pd.read_csv(file_path, usecols=['start_time', 'end_time'])\n",
    "\n",
    "    if df.shape[0] < lowest:\n",
    "        lowest = df.shape[0]\n",
    "\n",
    "    if df.shape[0] > biggest:\n",
    "        biggest = df.shape[0]\n",
    "\n",
    "print(random.sample(os.listdir(source_path), 3))"
   ]
  },
  {
   "cell_type": "code",
   "execution_count": 302,
   "id": "f6e7700b",
   "metadata": {},
   "outputs": [
    {
     "data": {
      "text/plain": [
       "38912"
      ]
     },
     "execution_count": 302,
     "metadata": {},
     "output_type": "execute_result"
    }
   ],
   "source": [
    "y, sr = librosa.load(\"/media/zanub/39768EEB549F8712/projects/SELD-quadcopter/dataset_generator/sounds/whistles/[_0SMVzXhf-s]_whistle_sound_1.wav\", sr=44100, mono=False)\n",
    "y.shape[-1]"
   ]
  },
  {
   "cell_type": "code",
   "execution_count": null,
   "id": "9b4ff658",
   "metadata": {},
   "outputs": [
    {
     "data": {
      "text/plain": [
       "1.0638870056170582"
      ]
     },
     "execution_count": 146,
     "metadata": {},
     "output_type": "execute_result"
    }
   ],
   "source": [
    "np.random.uniform(1, 2)"
   ]
  },
  {
   "cell_type": "code",
   "execution_count": 299,
   "id": "d45dc7c9",
   "metadata": {},
   "outputs": [
    {
     "data": {
      "text/plain": [
       "144.59644537274275"
      ]
     },
     "execution_count": 299,
     "metadata": {},
     "output_type": "execute_result"
    }
   ],
   "source": [
    "max(0, np.random.normal(1.5, 100))"
   ]
  }
 ],
 "metadata": {
  "kernelspec": {
   "display_name": "Tensorflow GPU",
   "language": "python",
   "name": "tf"
  },
  "language_info": {
   "codemirror_mode": {
    "name": "ipython",
    "version": 3
   },
   "file_extension": ".py",
   "mimetype": "text/x-python",
   "name": "python",
   "nbconvert_exporter": "python",
   "pygments_lexer": "ipython3",
   "version": "3.12.3"
  }
 },
 "nbformat": 4,
 "nbformat_minor": 5
}
